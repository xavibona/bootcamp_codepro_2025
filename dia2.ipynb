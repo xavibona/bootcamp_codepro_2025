{
 "cells": [
  {
   "cell_type": "markdown",
   "id": "0c9a6e77",
   "metadata": {},
   "source": [
    "### Repaso\n",
    "\n",
    "- **Variables**\n",
    "\n",
    "- **Tipos de datos**  \n",
    "  - `str` (string / cadena de texto) → `'hola'`, `\"Python\"`\n",
    "  - `int` (integer / entero) → `1`, `2`, `3`\n",
    "  - `float` (número decimal) → `1.2`, `3.4`\n",
    "  - `bool` (booleano) → `True`, `False`\n",
    "\n",
    "- **Operadores aritméticos**\n",
    "  - `+` suma\n",
    "  - `-` resta\n",
    "  - `*` multiplicación\n",
    "  - `/` división\n",
    "  - `//` división entera\n",
    "  - `%` módulo (resto)\n",
    "  - `**` potencia (quizás querés incluirlo)\n",
    "\n",
    "- **Concatenación de texto**\n",
    "  - `+` para unir strings\n",
    "  - `f''` f-strings (interpolación de variables)\n",
    "\n",
    "- **Funciones**\n",
    "  - Definición: `def nombre_funcion(parametro1, parametro2):`\n",
    "  - Parámetros: variables que recibe la función al definirse\n",
    "  - Argumentos: valores que se pasan al llamar la función\n",
    "\n",
    "- **Scopes (ámbitos de las variables)**\n",
    "  - **Local**: existe solo dentro de la función\n",
    "  - **Global**: existe en todo el programa\n"
   ]
  },
  {
   "cell_type": "code",
   "execution_count": 1,
   "id": "c094d985",
   "metadata": {},
   "outputs": [
    {
     "name": "stdout",
     "output_type": "stream",
     "text": [
      "Verifique los datos\n",
      "Retirar el vehiculo\n",
      "cobrar\n",
      "entregar al duenho\n"
     ]
    }
   ],
   "source": [
    "def buscar_auto(marca, color, chapa, modelo):\n",
    "    print('Verifique los datos')\n",
    "    print('Retirar el vehiculo')\n",
    "    print('cobrar')\n",
    "    print('entregar al duenho')\n",
    "\n",
    "buscar_auto(input('ingrese la marca'),input('ingrese el color'),input('ingrese la chapa'),input('ingrese el modelo'))"
   ]
  },
  {
   "cell_type": "markdown",
   "id": "38aaf754",
   "metadata": {},
   "source": [
    "### Condicionales\n",
    "Nos permiten validar una conddiicion en especifico. Las condicionales permiten validar una condicion en especifico\n",
    "if x < y :\n",
    "    lo que pasa\n",
    "else:\n",
    "    si no se cumple el if\n",
    "\n",
    "### Operadores de comparacion\n",
    "- `<`\n",
    "- `<=`\n",
    "- `>`\n",
    "- `>=`\n",
    "- `==`\n",
    "- `!=`"
   ]
  },
  {
   "cell_type": "code",
   "execution_count": null,
   "id": "2f552d8b",
   "metadata": {},
   "outputs": [
    {
     "name": "stdout",
     "output_type": "stream",
     "text": [
      "False\n",
      "False\n",
      "False\n"
     ]
    }
   ],
   "source": [
    "edad1 = 20\n",
    "edad2 = 19\n",
    "\n",
    "edad_str = '19'\n",
    "nombre1 = 'Ana'\n",
    "nombre2 = 'ana'\n",
    "\n",
    "print(nombre1==nombre2)\n",
    "print(edad1 < edad2)\n",
    "print(edad_str == edad2)"
   ]
  },
  {
   "cell_type": "code",
   "execution_count": null,
   "id": "e91c975a",
   "metadata": {},
   "outputs": [
    {
     "name": "stdout",
     "output_type": "stream",
     "text": [
      "123 es mayor\n"
     ]
    }
   ],
   "source": [
    "edad = int(input('ingrese la edad'))\n",
    "if edad < 18:\n",
    "    print(f'{edad} es menor de edad')\n",
    "else:\n",
    "    print(f'{edad} es mayor de edad')"
   ]
  },
  {
   "cell_type": "markdown",
   "id": "fc7257e0",
   "metadata": {},
   "source": [
    "\n",
    "Escribe un programa que pregunte al usuario por su edad y determine si tiene edad suficiente para comprar y consumir alcohol.  \n",
    "Si el usuario tiene mas de 18 pero menos de 21 impirmir \"Podes tomar pero no comprar\"  \n",
    "Si el usuario tiene menos de 18 imprimir \"Juguito nomas\"  \n",
    "Si el usuario tiene mas de 21 imprimir \"Hace lo que quieras\""
   ]
  },
  {
   "cell_type": "code",
   "execution_count": 18,
   "id": "e6f2581e",
   "metadata": {},
   "outputs": [
    {
     "name": "stdout",
     "output_type": "stream",
     "text": [
      "hace lo q quieras rey\n"
     ]
    }
   ],
   "source": [
    "edad = int(input('ingrese su edad'))\n",
    "if edad < 18:\n",
    "    print('jugo nomas')\n",
    "elif edad < 21:\n",
    "    print('podes tomar pero no comprar')\n",
    "else:\n",
    "    print('hace lo q quieras rey')"
   ]
  },
  {
   "cell_type": "markdown",
   "id": "69f32072",
   "metadata": {},
   "source": [
    "### Operadores lógicos\n",
    "and  \n",
    "or   \n",
    "not  "
   ]
  },
  {
   "cell_type": "markdown",
   "id": "c552fd8b",
   "metadata": {},
   "source": [
    "Challenge 🤺 - 30m\n",
    "Escribir un programa en el que se pregunte al usuario por una temperatura (en grados Celsius), imprima la temperatura escrita, y luego clasificar la temperatura ingresada en los siguientes niveles:  \n",
    "\n",
    "Entre -10 y 18 grados, que imprima \"Fresquete\".  \n",
    "Entre 19 y 30 grados, que imprima \"Calor'i\".  \n",
    "Entre 31 y 45 grados, que imprima \"Hakuuuuuu\".  \n",
    "Para todo lo demás, imprimir \"Ñamano mba'e!\".  "
   ]
  },
  {
   "cell_type": "code",
   "execution_count": 13,
   "id": "aadec702",
   "metadata": {},
   "outputs": [
    {
     "name": "stdout",
     "output_type": "stream",
     "text": [
      "la temperatura actual es de -100°C\n",
      "ñamano mba'e\n"
     ]
    }
   ],
   "source": [
    "temperatura = int(input('ingrese la temperatura actual'))\n",
    "print(f'la temperatura actual es de {temperatura}°C')\n",
    "\n",
    "if temperatura >=-10 and temperatura <=18:\n",
    "    print('fresquete')\n",
    "elif temperatura >=9 and temperatura <=30:\n",
    "    print('calor\\'i')\n",
    "elif temperatura >=31 and temperatura <=45:\n",
    "    print('haku')\n",
    "else:\n",
    "    print('ñamano mba\\'e')"
   ]
  },
  {
   "cell_type": "markdown",
   "id": "2424fd38",
   "metadata": {},
   "source": [
    "## Bucles Condicionales\n",
    "While nos permite ejecutar una serie de instrucciones mientras una condicion de cumpla.  \n",
    "Al momento que la condicion deje de ser cierta el bucle va a parar  \n",
    "Se usa `break` para detener el bucle"
   ]
  },
  {
   "cell_type": "code",
   "execution_count": 28,
   "id": "771702a8",
   "metadata": {},
   "outputs": [
    {
     "name": "stdout",
     "output_type": "stream",
     "text": [
      "felicidades, el numero era 15 ganaste!\n"
     ]
    }
   ],
   "source": [
    "num_adivinar = 15\n",
    "numero = int(input('ingrese un numero'))\n",
    "while numero != num_adivinar :\n",
    "    print(f'{numero} es un numero equivocado, ingrese otro')\n",
    "    numero = int(input('ingrese un numero'))\n",
    "print(f'felicidades, el numero era {num_adivinar} ganaste!')"
   ]
  },
  {
   "cell_type": "code",
   "execution_count": 30,
   "id": "a1edda8f",
   "metadata": {},
   "outputs": [
    {
     "name": "stdout",
     "output_type": "stream",
     "text": [
      "nro incorrecto\n",
      "nro incorrecto\n",
      "nro incorrecto\n",
      "nro correcto\n"
     ]
    }
   ],
   "source": [
    "# bucle infinito\n",
    "numero = 5\n",
    "while True:\n",
    "    numero_ingresado = int(input('ingrese un nro'))\n",
    "    if numero_ingresado == numero:\n",
    "        print('nro correcto')\n",
    "        break\n",
    "    else:\n",
    "        print('nro incorrecto')"
   ]
  },
  {
   "cell_type": "markdown",
   "id": "c2063aa1",
   "metadata": {},
   "source": [
    "Challenge  - 20m  \n",
    "Escribir un programa que almacene una contraseña en una variable, y pregunte al usuario por la contraseña hasta que introduzca la contraseña correcta.  \n",
    "Cuando el usuario ingrese la contrasena correcta, imprimir un mensaje secreto."
   ]
  },
  {
   "cell_type": "code",
   "execution_count": 1,
   "id": "def7ed90",
   "metadata": {},
   "outputs": [
    {
     "name": "stdout",
     "output_type": "stream",
     "text": [
      "Contraseña incorrecta ❌\n",
      "Contraseña correcta ✅\n",
      "El mensaje secreto es:\n",
      "`Mensaje secreto 👍🏽`\n"
     ]
    }
   ],
   "source": [
    "password = '123456'\n",
    "\n",
    "while True:\n",
    "    intento = input('Ingrese la contraseña')\n",
    "    if intento == password:\n",
    "        print('Contraseña correcta ✅\\nEl mensaje secreto es:\\n`Mensaje secreto 👍🏽`')\n",
    "        break\n",
    "    else:\n",
    "        print('Contraseña incorrecta ❌')\n"
   ]
  },
  {
   "cell_type": "code",
   "execution_count": null,
   "id": "21c64d02",
   "metadata": {},
   "outputs": [],
   "source": [
    "password = '123456'\n",
    "intento= input('ingrese la contrase;a')\n",
    "\n",
    "while password != intento:\n",
    "    print('contras;a incorewerpa')\n",
    "    intento = input('ingrese la contrase;a')\n",
    "    \n",
    "\n",
    "print('contrase;a correcta')"
   ]
  },
  {
   "cell_type": "markdown",
   "id": "416ffba3",
   "metadata": {},
   "source": [
    "## Lista  \n",
    "Agrupacion de objetos, q pueden ser de distintos tipos de datos.  \n",
    "Las construimos colocando los elementos entre corchetes [ ] y separados por comas.\n",
    "\n",
    "un indice es un numero entero q indica la posicion de un elemento en una lista\n"
   ]
  },
  {
   "cell_type": "code",
   "execution_count": 12,
   "id": "6956d1b2",
   "metadata": {},
   "outputs": [
    {
     "name": "stdout",
     "output_type": "stream",
     "text": [
      "True\n",
      "manzana\n",
      "['manzana', 'pera', 'piña', 'kiwi']\n",
      "['manzana', 'banana', 'piña', 'kiwi']\n",
      "['manzana', 'banana', 'kiwi']\n",
      "['manzana', 'banana']\n",
      "['str', True, 3.2]\n"
     ]
    }
   ],
   "source": [
    "lista_frutas = ['manzana', 'pera', 'piña']\n",
    "lista_variada = [1, 'str', True, 3.2]\n",
    "print(lista_variada[2])\n",
    "print(lista_frutas[0])\n",
    "\n",
    "#Agregar un elemento a la lista -> .append\n",
    "lista_frutas.append('kiwi')\n",
    "print(lista_frutas)\n",
    "\n",
    "#Modificar un elemento de la lista\n",
    "lista_frutas[1] = 'banana'\n",
    "print(lista_frutas)\n",
    "\n",
    "#Eliminar el elemento especificiando el valor -> .remove\n",
    "lista_frutas.remove('piña')\n",
    "print(lista_frutas)\n",
    "\n",
    "#elimina un elemento de acuerdo al indice -> .pop\n",
    "lista_frutas.pop(2)\n",
    "print(lista_frutas)\n",
    "\n",
    "lista_variada.pop(0)\n",
    "print(lista_variada)"
   ]
  },
  {
   "cell_type": "markdown",
   "id": "635e0feb",
   "metadata": {},
   "source": [
    "Challenge 🤺 - 20m  \n",
    "Crear una lista de 5 elementos. Luego, seguir los siguientes pasos.  \n",
    "Agregar un elemento al final de la lista.  \n",
    "Modificar el segundo elemento.  \n",
    "Eliminar el tercer elemento."
   ]
  },
  {
   "cell_type": "code",
   "execution_count": 28,
   "id": "3c808863",
   "metadata": {},
   "outputs": [
    {
     "name": "stdout",
     "output_type": "stream",
     "text": [
      "lista de 5 elementos: ['a', 'b', 'c', 'd', 'e']\n",
      "Agregar un elemento al final de la lista: ['a', 'b', 'c', 'd', 'e', 'goku']\n",
      "Modificar el segundo elemento: ['a', 'eta vaina e seria', 'c', 'd', 'e', 'goku']\n",
      "Eliminar el tercer elemento: ['a', 'eta vaina e seria', 'd', 'e', 'goku']\n"
     ]
    }
   ],
   "source": [
    "lista = ['a','b','c','d','e']\n",
    "print('lista de 5 elementos:',lista)\n",
    "lista.append('goku')\n",
    "print('Agregar un elemento al final de la lista:',lista)\n",
    "lista[1] = 'eta vaina e seria'\n",
    "print('Modificar el segundo elemento:',lista)\n",
    "lista.pop(2)\n",
    "print('Eliminar el tercer elemento:', lista)"
   ]
  },
  {
   "cell_type": "code",
   "execution_count": 25,
   "id": "9eba7e3c",
   "metadata": {},
   "outputs": [
    {
     "name": "stdout",
     "output_type": "stream",
     "text": [
      "['perro', 'gato', 'pez', 'jirafa']\n",
      "['perro', 'gato', 'PEZZ', 'jirafa']\n",
      "['perro', 'gato', 'PEZZ', 'jirafa', 1]\n",
      "5\n"
     ]
    }
   ],
   "source": [
    "listx = ['perro', 'gato', 'pez', 'jirafa', 'leon']\n",
    "listx.pop()\n",
    "print(listx)\n",
    "listx[2] = 'PEZZ'\n",
    "print(listx)\n",
    "listx.append(1)\n",
    "print(listx)\n",
    "\n",
    "print(len(listx))"
   ]
  },
  {
   "cell_type": "markdown",
   "id": "81e85901",
   "metadata": {},
   "source": [
    "## Bucles iterativos (for)  \n"
   ]
  },
  {
   "cell_type": "code",
   "execution_count": 29,
   "id": "f3b5544b",
   "metadata": {},
   "outputs": [
    {
     "name": "stdout",
     "output_type": "stream",
     "text": [
      "0\n",
      "1\n",
      "2\n",
      "3\n",
      "4\n"
     ]
    }
   ],
   "source": [
    "for  i in range(5):\n",
    "    print(i)"
   ]
  },
  {
   "cell_type": "markdown",
   "id": "cda142bd",
   "metadata": {},
   "source": [
    "Challenge 🤺 - 20m  \n",
    "Escribir un programa que itere en un rango de 10 veces. Por cada iteracion multiplicar el iterador por dos e imprimir el resultado."
   ]
  },
  {
   "cell_type": "code",
   "execution_count": 31,
   "id": "03b3641c",
   "metadata": {},
   "outputs": [
    {
     "name": "stdout",
     "output_type": "stream",
     "text": [
      "0 - 0\n",
      "1 - 2\n",
      "2 - 4\n",
      "3 - 6\n",
      "4 - 8\n",
      "5 - 10\n",
      "6 - 12\n",
      "7 - 14\n",
      "8 - 16\n",
      "9 - 18\n"
     ]
    }
   ],
   "source": [
    "for i in range(10):\n",
    "    print(i,'-',i*2)"
   ]
  },
  {
   "cell_type": "code",
   "execution_count": 3,
   "id": "29dc7ada",
   "metadata": {},
   "outputs": [
    {
     "name": "stdout",
     "output_type": "stream",
     "text": [
      "tomate\n",
      "limon\n",
      "pera\n"
     ]
    }
   ],
   "source": [
    "lista_frutas = ['tomate','limon','pera']\n",
    "for fruta in lista_frutas:\n",
    "    print(fruta)"
   ]
  },
  {
   "cell_type": "markdown",
   "id": "b32fdb67",
   "metadata": {},
   "source": [
    "Challenge 🤺 - 20m  \n",
    "Recorrer los elementos de una lista de marcas e imprimir cada marca solamente si tiene 6 letras o más."
   ]
  },
  {
   "cell_type": "code",
   "execution_count": null,
   "id": "0ab76cb6",
   "metadata": {},
   "outputs": [
    {
     "name": "stdout",
     "output_type": "stream",
     "text": [
      "1 adidas\n",
      "2 new ballance\n",
      "3 grazep\n",
      "4 topper\n"
     ]
    }
   ],
   "source": [
    "lista_marcas = ['adidas','nike','puma','new ballance','grazep','topper']\n",
    "i = 0\n",
    "for marca in lista_marcas:\n",
    "    if len(marca) >= 6:\n",
    "        i=i+1\n",
    "        print(i, marca)"
   ]
  },
  {
   "cell_type": "code",
   "execution_count": null,
   "id": "91d6b61e",
   "metadata": {},
   "outputs": [
    {
     "name": "stdout",
     "output_type": "stream",
     "text": [
      "tu frase es: olo\n",
      "en la posicion 1 hay una `o`\n",
      "en la posicion 3 hay una `o`\n",
      "la cantidad de O`s es: 2\n"
     ]
    }
   ],
   "source": [
    "frase = input('ingrrese una frase')\n",
    "print('tu frase es:',frase)\n",
    "i=0\n",
    "j=0\n",
    "for letra in frase:\n",
    "    i=i+1\n",
    "    \n",
    "    if letra == 'o' or letra == 'O':\n",
    "        print(f'en la posicion {i} hay una `o`')\n",
    "        j+=1\n",
    "print('la cantidad de O`s es:', j)\n"
   ]
  }
 ],
 "metadata": {
  "kernelspec": {
   "display_name": "Python 3",
   "language": "python",
   "name": "python3"
  },
  "language_info": {
   "codemirror_mode": {
    "name": "ipython",
    "version": 3
   },
   "file_extension": ".py",
   "mimetype": "text/x-python",
   "name": "python",
   "nbconvert_exporter": "python",
   "pygments_lexer": "ipython3",
   "version": "3.11.6"
  }
 },
 "nbformat": 4,
 "nbformat_minor": 5
}

{
 "cells": [
  {
   "cell_type": "markdown",
   "id": "999b0007",
   "metadata": {},
   "source": [
    "## IoT  \n",
    "internet + hardware"
   ]
  },
  {
   "cell_type": "code",
   "execution_count": null,
   "id": "1817a55b",
   "metadata": {
    "vscode": {
     "languageId": "cpp"
    }
   },
   "outputs": [],
   "source": [
    "\n",
    "// Codigo para probar el analog \n",
    "// diagrama https://imgur.com/a/lKeyI3q\n",
    "void setup() {\n",
    "  pinMode(9, OUTPUT);\n",
    "}\n",
    "void loop() {\n",
    "  for(int i=0; i<=255; i++){\n",
    "    analogWrite(9, i);\n",
    "    delay(10);\n",
    "  }\n",
    "  delay(200);\n",
    "  for(int i=255; i>=0; i--){\n",
    "    analogWrite(9, i);\n",
    "    delay(10);\n",
    "  }\n",
    "  delay((200));\n",
    "}\n"
   ]
  },
  {
   "cell_type": "code",
   "execution_count": null,
   "id": "0ae24623",
   "metadata": {
    "vscode": {
     "languageId": "cpp"
    }
   },
   "outputs": [],
   "source": [
    "// Hacer un semaforo.\n",
    "// https://imgur.com/a/TCiPEJI\n",
    "\n",
    "int ledRojo = 10;\n",
    "int ledAmarillo = 9;\n",
    "int ledVerde = 8;\n",
    "\n",
    "void setup() {\n",
    "  pinMode(ledRojo,OUTPUT);\n",
    "  pinMode(ledAmarillo,OUTPUT);\n",
    "  pinMode(ledVerde,OUTPUT);\n",
    "}\n",
    "void loop() {\n",
    "//fase 1 = rojo solo\n",
    "digitalWrite(ledRojo, HIGH);\n",
    "digitalWrite(ledAmarillo, LOW);\n",
    "digitalWrite(ledVerde, LOW);\n",
    "delay(4000);\n",
    "//fase 2 =  amarillo solo\n",
    "digitalWrite(ledRojo, LOW);\n",
    "digitalWrite(ledAmarillo, HIGH);\n",
    "digitalWrite(ledVerde, LOW);\n",
    "delay(1000);\n",
    "//fase 3 = verde\n",
    "digitalWrite(ledRojo, LOW);\n",
    "digitalWrite(ledAmarillo, LOW);\n",
    "digitalWrite(ledVerde, HIGH);\n",
    "delay(4000);\n",
    "// fase 4 = amarillo\n",
    "digitalWrite(ledRojo, LOW);\n",
    "digitalWrite(ledAmarillo, HIGH);\n",
    "digitalWrite(ledVerde, LOW);\n",
    "delay(1000);\n",
    "}\n"
   ]
  },
  {
   "cell_type": "code",
   "execution_count": null,
   "id": "0021d2f4",
   "metadata": {
    "vscode": {
     "languageId": "cpp"
    }
   },
   "outputs": [],
   "source": [
    "// usar boton\n",
    "// https://imgur.com/a/XRpH1JW\n",
    "\n",
    "int button = 2;\n",
    "int led = 3;\n",
    "void setup() {\n",
    "  // put your setup code here, to run once:\n",
    "pinMode(led, OUTPUT);\n",
    "pinMode(button, INPUT);\n",
    "}\n",
    "\n",
    "void loop() {\n",
    "  // put your main code here, to run repeatedly:\n",
    "if(digitalRead(button)==HIGH){\n",
    "  digitalWrite(led, HIGH);\n",
    "} else{\n",
    "  digitalWrite(led, LOW);\n",
    "}\n",
    "}\n",
    "\n"
   ]
  },
  {
   "cell_type": "code",
   "execution_count": null,
   "id": "27fdeda6",
   "metadata": {
    "vscode": {
     "languageId": "cpp"
    }
   },
   "outputs": [],
   "source": [
    "// Programa para sensor de humedad y temperatura\n",
    "#include <DHT.h> \n",
    "#define DHTPIN 11\n",
    "#define DHTTYPE DHT22\n",
    "\n",
    "DHT dht(DHTPIN, DHTTYPE);\n",
    "\n",
    "void setup() {\n",
    "  // put your setup code here, to run once:\n",
    "Serial.begin(9600); // iniciar el monitor serial\n",
    "dht.begin();\n",
    "\n",
    "}\n",
    "\n",
    "void loop() {\n",
    "  // put your main code here, to run repeatedly:\n",
    "float humedad = dht.readHumidity();\n",
    "float temperatura = dht.readTemperature();\n",
    "if(isnan(humedad) || isnan(temperatura)){\n",
    "  Serial.println(\"Fallo al leer el sensor\");\n",
    "}\n",
    "Serial.println(\"Humedad\");\n",
    "Serial.println(humedad);\n",
    "Serial.println(\"Temperatura\");\n",
    "Serial.println(temperatura);\n",
    "delay(2000);\n",
    "}\n"
   ]
  },
  {
   "cell_type": "markdown",
   "id": "f7ebd48a",
   "metadata": {},
   "source": [
    "### Challenge\n",
    "Juego de reflejos con tiempo de reacción  \n",
    "Componentes:  \n",
    "-LED  \n",
    "-Botón  \n",
    "-Zumbador  \n",
    "Objetivo:  \n",
    "--Juego interactivo que mide reflejos:  \n",
    "- El LED se enciende después de un tiempo aleatorio.  \n",
    "- El jugador debe presionar el botón tan rápido como pueda.  \n",
    "- Si presiona a tiempo: LED verde y sonido de acierto.  \n",
    "- Si presiona demasiado tarde: LED rojo y zumbador de error.  \n",
    "- El tiempo de reacción se puede mostrar por Serial.  "
   ]
  },
  {
   "cell_type": "code",
   "execution_count": null,
   "id": "87ab1335",
   "metadata": {
    "vscode": {
     "languageId": "cpp"
    }
   },
   "outputs": [],
   "source": [
    "// Juego de reflejos\n",
    "\n",
    "\n",
    "\n",
    "\n",
    "void setup() {\n",
    "  \n",
    "}\n",
    "\n",
    "void loop() {\n",
    "  \n",
    "}\n"
   ]
  }
 ],
 "metadata": {
  "language_info": {
   "name": "python"
  }
 },
 "nbformat": 4,
 "nbformat_minor": 5
}

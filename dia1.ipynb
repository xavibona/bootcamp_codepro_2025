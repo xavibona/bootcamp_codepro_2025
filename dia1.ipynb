{
 "cells": [
  {
   "cell_type": "markdown",
   "id": "fd802302",
   "metadata": {},
   "source": [
    "## Qué es Python\n",
    "Es un lenguaje de programación de sintaxis sencilla, amigable y trata de parecerse en lo mayor posible al lenguaje humano. Como está escrito en inglés, es más pareido a ese idioma."
   ]
  },
  {
   "cell_type": "code",
   "execution_count": 33,
   "id": "f50ac95f",
   "metadata": {},
   "outputs": [
    {
     "name": "stdout",
     "output_type": "stream",
     "text": [
      "Hola mundo\n"
     ]
    }
   ],
   "source": [
    "print('Hola mundo')"
   ]
  },
  {
   "cell_type": "markdown",
   "id": "7d135339",
   "metadata": {},
   "source": [
    "## Variable\n",
    "Espacios en memoria de la computadora en las cuales podemos guardar datos durante la ejecución de nuestro programa."
   ]
  },
  {
   "cell_type": "code",
   "execution_count": 34,
   "id": "090540fd",
   "metadata": {},
   "outputs": [
    {
     "name": "stdout",
     "output_type": "stream",
     "text": [
      "Xavi\n"
     ]
    }
   ],
   "source": [
    "nombre = 'Xavi'\n",
    "print(nombre)"
   ]
  },
  {
   "cell_type": "markdown",
   "id": "9c910e86",
   "metadata": {},
   "source": [
    "### Reglas y buenas prácticas (p/ Variables)\n",
    "- Puede incluir letras, números y guiones bajos\n",
    "- Debe empezar con letra o guión bajo.\n",
    "- Evitar usar palabras reservadas (print, def, if, etc)\n",
    "- Usar nombres descriptivos"
   ]
  },
  {
   "cell_type": "code",
   "execution_count": 35,
   "id": "5172779f",
   "metadata": {},
   "outputs": [
    {
     "name": "stdout",
     "output_type": "stream",
     "text": [
      "naranja\n",
      "4\n",
      "banana\n"
     ]
    }
   ],
   "source": [
    "fruta = 'naranja'\n",
    "print(fruta)\n",
    "\n",
    "cant_de_fruta = 4\n",
    "print(cant_de_fruta)\n",
    "\n",
    "fruta = 'banana'\n",
    "print(fruta)"
   ]
  },
  {
   "cell_type": "markdown",
   "id": "ab0bfe48",
   "metadata": {},
   "source": [
    "## Tipos de datos\n",
    "Textos, números, decimales, booleanos"
   ]
  },
  {
   "cell_type": "code",
   "execution_count": 36,
   "id": "262bbca0",
   "metadata": {},
   "outputs": [
    {
     "name": "stdout",
     "output_type": "stream",
     "text": [
      "24 1.8\n"
     ]
    }
   ],
   "source": [
    "edad = 24 # int\n",
    "altura = 1.80 # float\n",
    "nombre = 'Xavi' # str\n",
    "feliz = True # boolean\n",
    "print(edad, altura)"
   ]
  },
  {
   "cell_type": "markdown",
   "id": "8d2546b5",
   "metadata": {},
   "source": [
    "Crea 3 variables con tu nombre, edad y ciudad. Imprime en una sola linea usando print()"
   ]
  },
  {
   "cell_type": "code",
   "execution_count": 37,
   "id": "1e20a524",
   "metadata": {},
   "outputs": [
    {
     "name": "stdout",
     "output_type": "stream",
     "text": [
      "Xavi 24 Asuncion\n"
     ]
    }
   ],
   "source": [
    "nombre = 'Xavi'\n",
    "edad = 24\n",
    "ciudad = 'Asuncion'\n",
    "print(nombre, edad, ciudad)\n"
   ]
  },
  {
   "cell_type": "markdown",
   "id": "09456c30",
   "metadata": {},
   "source": [
    "### Operadores aritméticos\n",
    "+ -> suma \n",
    "- -> resta\n",
    "* -> multiplicacion\n",
    "/ -> division\n",
    "// -> division entera (sin decimales)\n",
    "% -> modulo"
   ]
  },
  {
   "cell_type": "code",
   "execution_count": 38,
   "id": "0e41c345",
   "metadata": {},
   "outputs": [
    {
     "name": "stdout",
     "output_type": "stream",
     "text": [
      "El costo total es 15000\n",
      "Mi vuelto es 35000\n",
      "35000\n"
     ]
    }
   ],
   "source": [
    "producto1 = 'papa frita'\n",
    "costo_producto1 = 10000\n",
    "\n",
    "producto2= 'coca'\n",
    "costo_producto2 = 5000\n",
    "\n",
    "costo_total = costo_producto1 + costo_producto2\n",
    "\n",
    "billetera = 50000\n",
    "\n",
    "print('El costo total es', costo_total)\n",
    "print('Mi vuelto es', billetera-costo_total)\n",
    "\n",
    "billetera = billetera - costo_total\n",
    "\n",
    "print(billetera)\n"
   ]
  },
  {
   "cell_type": "code",
   "execution_count": 39,
   "id": "0fa5f285",
   "metadata": {},
   "outputs": [
    {
     "name": "stdout",
     "output_type": "stream",
     "text": [
      "la cantidad de frutas es 16\n",
      "la cantidad de frutas restantes es 11\n"
     ]
    }
   ],
   "source": [
    "cantidad_de_manzanas = 10\n",
    "cantidad_de_naranjas = 6\n",
    "cantidad_de_frutas = cantidad_de_manzanas + cantidad_de_naranjas\n",
    "print('la cantidad de frutas es', cantidad_de_frutas)\n",
    "\n",
    "frutas_vendidas = 5\n",
    "frutas_restantes = cantidad_de_frutas - frutas_vendidas\n",
    "print('la cantidad de frutas restantes es', frutas_restantes)"
   ]
  },
  {
   "cell_type": "code",
   "execution_count": 40,
   "id": "542d055b",
   "metadata": {},
   "outputs": [
    {
     "name": "stdout",
     "output_type": "stream",
     "text": [
      "john price\n",
      "mi nombre es john y mi apellido es price\n",
      "Mi nombre es john y mi apellido es price\n"
     ]
    }
   ],
   "source": [
    "nombre = 'john'\n",
    "apellido = 'price'\n",
    "print(nombre +' '+ apellido) #concatenacion\n",
    "print('mi nombre es',nombre,'y mi apellido es',apellido)\n",
    "print(f'Mi nombre es {nombre} y mi apellido es {apellido}')"
   ]
  },
  {
   "cell_type": "markdown",
   "id": "5b7ab01c",
   "metadata": {},
   "source": [
    "Asignar el nombre y el apellido de tu compañera/o a las variables nombre y apellido. Luego, imprimir una frase, utilizando las variables.\n",
    "EJEMPLO: \"Hola. Me llamo Claudia Melgarejo. Mucho gusto.\""
   ]
  },
  {
   "cell_type": "code",
   "execution_count": 41,
   "id": "e86956ce",
   "metadata": {},
   "outputs": [
    {
     "name": "stdout",
     "output_type": "stream",
     "text": [
      "Hola, me llamo Iván Portillo. Mucho gusto.\n"
     ]
    }
   ],
   "source": [
    "nombre = 'Iván'\n",
    "apellido = 'Portillo'\n",
    "print(f'Hola, me llamo {nombre} {apellido}. Mucho gusto.')\n"
   ]
  },
  {
   "cell_type": "code",
   "execution_count": 46,
   "id": "cc90ddb3",
   "metadata": {},
   "outputs": [
    {
     "name": "stdout",
     "output_type": "stream",
     "text": [
      "qwe\n",
      "<class 'int'>\n"
     ]
    }
   ],
   "source": [
    "nombre = input('Ingrese su nombre')\n",
    "print(nombre)\n",
    "\n",
    "anio = int(input('cuantos anios tenes?'))\n",
    "print(type(anio))\n",
    "\n"
   ]
  },
  {
   "cell_type": "markdown",
   "id": "b04d6281",
   "metadata": {},
   "source": [
    "Solicitar al usuario ingresar dos números y almacenarlos en dos variables. Luego, imprimir la suma de los dos números"
   ]
  },
  {
   "cell_type": "code",
   "execution_count": null,
   "id": "67a389fe",
   "metadata": {},
   "outputs": [
    {
     "name": "stdout",
     "output_type": "stream",
     "text": [
      "15\n"
     ]
    }
   ],
   "source": [
    "num1 = int(input('ingrese el primer numero'))\n",
    "num2 = int(input('ingrese el segundo numero'))\n",
    "suma = num1+num2\n",
    "print(suma)"
   ]
  },
  {
   "cell_type": "markdown",
   "id": "0e08606b",
   "metadata": {},
   "source": [
    "Funciones"
   ]
  },
  {
   "cell_type": "code",
   "execution_count": 53,
   "id": "ffa7ee49",
   "metadata": {},
   "outputs": [
    {
     "name": "stdout",
     "output_type": "stream",
     "text": [
      "Hola asd de asd anhos\n"
     ]
    }
   ],
   "source": [
    "def saludo():\n",
    "    nombre = input('Ingrese su nombre')\n",
    "    edad = input('ingrese su edad')\n",
    "    print(f'Hola {nombre} de {edad} anhos')\n",
    "\n",
    "saludo()\n",
    "\n"
   ]
  },
  {
   "cell_type": "markdown",
   "id": "05d0cbdc",
   "metadata": {},
   "source": [
    "Challenge  - 20m,\n",
    "Crear una función de un proceso que se les ocurra que tenga varios pasos.\n",
    "\n",
    "Ejecutar la función 3 veces.\n"
   ]
  },
  {
   "cell_type": "code",
   "execution_count": 54,
   "id": "8f3e9d8b",
   "metadata": {},
   "outputs": [
    {
     "name": "stdout",
     "output_type": "stream",
     "text": [
      "5.0\n",
      "15.0\n",
      "8.0\n"
     ]
    }
   ],
   "source": [
    "def multi():\n",
    "    num1 = float(input('Ingrese el primer numero'))\n",
    "    num2 = float(input('Ingrese el segundo numero'))\n",
    "    mult = num1*num2\n",
    "    print(mult)\n",
    "multi()\n",
    "multi()\n",
    "multi()"
   ]
  },
  {
   "cell_type": "code",
   "execution_count": null,
   "id": "a785e1d4",
   "metadata": {},
   "outputs": [
    {
     "name": "stdout",
     "output_type": "stream",
     "text": [
      "Hola juan de 25 anhos\n"
     ]
    }
   ],
   "source": [
    "def saludo_nuevo(nombre, edad): # nombre y edad son parametros\n",
    "    print(f'Hola {nombre} de {edad} anhos')\n",
    "\n",
    "saludo_nuevo('juan', 25) # 'juan' y 25 son argumentos"
   ]
  },
  {
   "cell_type": "code",
   "execution_count": null,
   "id": "78caceb0",
   "metadata": {},
   "outputs": [
    {
     "name": "stdout",
     "output_type": "stream",
     "text": [
      "Cortar tomate -> colocar la aceite en el bowl -> mezclar todo -> disfrutar la ensalda :)\n"
     ]
    }
   ],
   "source": [
    "def preparar_ensalada(ingrediente1, recipiente, salsa):\n",
    "    print(f'Cortar {ingrediente1} -> colocar la {salsa} en el {recipiente} -> mezclar todo -> disfrutar la ensalada :)')\n",
    "preparar_ensalada('tomate','bowl','aceite')"
   ]
  },
  {
   "cell_type": "markdown",
   "id": "f515806e",
   "metadata": {},
   "source": [
    "Escribir una funcion que nos pregunte las caracteristicas de un elemento a comprar e imprima el elemento con sus caracteristicas."
   ]
  },
  {
   "cell_type": "code",
   "execution_count": null,
   "id": "9148be77",
   "metadata": {},
   "outputs": [],
   "source": []
  },
  {
   "cell_type": "code",
   "execution_count": null,
   "id": "fa874db2",
   "metadata": {},
   "outputs": [
    {
     "name": "stdout",
     "output_type": "stream",
     "text": [
      "tu futurx tele tiene las siguientes caracteristicas:\n",
      "- asd\n",
      "- asd\n",
      "- asd\n"
     ]
    }
   ],
   "source": [
    "def compra_producto(producto):\n",
    "    caract1 = input(f'Ingrese la primera caracteristica de {producto}')\n",
    "    caract2 = input(f'Ingrese la segunda caracteristica de {producto}')\n",
    "    caract3 = input(f'Ingrese la tercera caracteristica de {producto}')\n",
    "\n",
    "    print(f\"tu futurx {producto} tiene las siguientes caracteristicas:\")\n",
    "    print(f'- {caract1}')\n",
    "    print(f'- {caract2}')\n",
    "    print(f'- {caract3}')\n",
    "\n",
    "compra_producto('tele')"
   ]
  },
  {
   "cell_type": "code",
   "execution_count": 64,
   "id": "38ad8623",
   "metadata": {},
   "outputs": [
    {
     "name": "stdout",
     "output_type": "stream",
     "text": [
      "estoy usando pollo\n",
      "pollo\n"
     ]
    }
   ],
   "source": [
    "ingrediente = 'pollo'\n",
    "\n",
    "def preparar_sandwich(ingrediente):\n",
    "    print(f'estoy usando {ingrediente}')\n",
    "\n",
    "preparar_sandwich(ingrediente)\n",
    "print(ingrediente)"
   ]
  }
 ],
 "metadata": {
  "kernelspec": {
   "display_name": "Python 3",
   "language": "python",
   "name": "python3"
  },
  "language_info": {
   "codemirror_mode": {
    "name": "ipython",
    "version": 3
   },
   "file_extension": ".py",
   "mimetype": "text/x-python",
   "name": "python",
   "nbconvert_exporter": "python",
   "pygments_lexer": "ipython3",
   "version": "3.11.6"
  }
 },
 "nbformat": 4,
 "nbformat_minor": 5
}

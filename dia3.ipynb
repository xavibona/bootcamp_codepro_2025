{
 "cells": [
  {
   "cell_type": "markdown",
   "id": "5924f94f",
   "metadata": {},
   "source": [
    "### Repaso de ayer  \n",
    "Condicionales (if, elif, else)  \n",
    "Operadores de comparacion (<, >, =, etc)  \n",
    "operadores logicos (and, or, not)  \n",
    "while (bucle condicional) ... break  \n",
    "lista = ['esta','es','una','lista']  .append .pop .remove\n",
    "len()\n",
    "for \n"
   ]
  },
  {
   "cell_type": "markdown",
   "id": "62e90a1d",
   "metadata": {},
   "source": [
    "#### Challenge: Crear una función que imprima la variable palabra."
   ]
  },
  {
   "cell_type": "code",
   "execution_count": null,
   "id": "4e4daf75",
   "metadata": {},
   "outputs": [
    {
     "name": "stdout",
     "output_type": "stream",
     "text": [
      "palabra\n"
     ]
    }
   ],
   "source": [
    "def funcion():\n",
    "    palabra = 'la variable se llama palabra'\n",
    "    print(palabra)\n",
    "funcion()"
   ]
  },
  {
   "cell_type": "markdown",
   "id": "cd3e3e1c",
   "metadata": {},
   "source": [
    "#### Challenge\n",
    "Crear una función que reciba dos letras (parámetros) y que verifique si son iguales:  \n",
    "Si son iguales, imprimir \"Las letras son iguales\".  \n",
    "De lo contrario, imprimir \"Las letras son diferentes\".  "
   ]
  },
  {
   "cell_type": "code",
   "execution_count": 13,
   "id": "f95a24b8",
   "metadata": {},
   "outputs": [
    {
     "name": "stdout",
     "output_type": "stream",
     "text": [
      "Las letras son iguales\n"
     ]
    }
   ],
   "source": [
    "def comparar_letras(letra1,letra2):\n",
    "    if letra1 == letra2:\n",
    "        print(f'Las letras son iguales')\n",
    "    else:\n",
    "        print('las letras son distintas')\n",
    "mensaje = 'ingrese una letra'\n",
    "comparar_letras(input(mensaje),input(mensaje))\n"
   ]
  },
  {
   "cell_type": "markdown",
   "id": "d4d7a463",
   "metadata": {},
   "source": [
    "Return"
   ]
  },
  {
   "cell_type": "code",
   "execution_count": null,
   "id": "bb67026c",
   "metadata": {},
   "outputs": [
    {
     "name": "stdout",
     "output_type": "stream",
     "text": [
      "same\n"
     ]
    }
   ],
   "source": [
    "def word_equal_check(word_to_find, word_input):\n",
    "    \n",
    "    if word_to_find == word_input:\n",
    "        return 'same'\n",
    "    else:\n",
    "        return 'different'\n",
    "print(word_equal_check('arbol','arbol'))\n",
    "\n"
   ]
  },
  {
   "cell_type": "code",
   "execution_count": 22,
   "id": "da69db56",
   "metadata": {},
   "outputs": [
    {
     "name": "stdout",
     "output_type": "stream",
     "text": [
      "5\n",
      "4\n",
      "9\n"
     ]
    }
   ],
   "source": [
    "def sumar(num1, num2):\n",
    "    suma = num1 + num2\n",
    "    print(suma)\n",
    "    return suma\n",
    "suma1 = sumar(3,2)\n",
    "suma2 = sumar(2,2)\n",
    "total = suma1+suma2\n",
    "print(total)"
   ]
  },
  {
   "cell_type": "markdown",
   "id": "73f57e50",
   "metadata": {},
   "source": [
    "#### Challenge \n",
    "Crear una función que reciba dos parámetros (una palabra y un número),  \n",
    "y que retorne True si el número es igual a la cantidad de letras de la palabra.  \n",
    "En caso contrario, que retorne False.\n",
    "\n",
    "Pista: cantidad de letras de una palabra en python"
   ]
  },
  {
   "cell_type": "code",
   "execution_count": 32,
   "id": "eec2219e",
   "metadata": {},
   "outputs": [
    {
     "data": {
      "text/plain": [
       "False"
      ]
     },
     "execution_count": 32,
     "metadata": {},
     "output_type": "execute_result"
    }
   ],
   "source": [
    "def letras_numeros_coinciden(palabra,num):\n",
    "    coinciden = len(palabra) == int(num )\n",
    "    return coinciden\n",
    "\n",
    "letras_numeros_coinciden('tres','3')\n",
    "\n"
   ]
  },
  {
   "cell_type": "code",
   "execution_count": 56,
   "id": "0f2a02aa",
   "metadata": {},
   "outputs": [
    {
     "name": "stdout",
     "output_type": "stream",
     "text": [
      "\n",
      "\n",
      "[]\n"
     ]
    }
   ],
   "source": [
    "palabra1 = input('ingrese una palrba')\n",
    "print(palabra1)\n",
    "\n",
    "palabra2 = input('palabra ingesada')\n",
    "print(palabra2)\n",
    "\n",
    "lista_letra1 = list(palabra1)\n",
    "print(lista_letra1)"
   ]
  },
  {
   "cell_type": "markdown",
   "id": "142c5c43",
   "metadata": {},
   "source": [
    "### Challenge\n",
    "Pedir al usuario que ingrese 1 palabra, luego convertir esa palabra a una lista con sus caracteres con list().  \n",
    "Agregar esa lista de caracteres a una lista llamada palabras_ingresadas.  \n",
    "Repetir el proceso 3 veces.  \n",
    "Cada vez que se agregue una lista de caracteres, imprimir la lista palabras_ingresadas.  \n",
    "Ejemplo del resultado esperado:\n",
    "\n",
    "`[['c', 'i', 'e', 'l', 'o']]` #Al ingresar la primera palabra\n",
    "\n",
    "`[['c', 'i', 'e', 'l', 'o'], ['c', 'a', 'l', 'o', 'r']]` # Al ingresar la segunda palabra\n",
    "\n",
    "`[['c', 'i', 'e', 'l', 'o'], ['c', 'a', 'l', 'o', 'r'], ['n', 'u', 'b', 'e', 's']]` # Al ingresar la tercera palabra"
   ]
  },
  {
   "cell_type": "code",
   "execution_count": null,
   "id": "e792ef35",
   "metadata": {},
   "outputs": [
    {
     "name": "stdout",
     "output_type": "stream",
     "text": [
      "[['h', 'o', 'l', 'a']]\n",
      "[['h', 'o', 'l', 'a'], ['c', 'h', 'a', 'u']]\n",
      "[['h', 'o', 'l', 'a'], ['c', 'h', 'a', 'u'], ['c', 'h', 'a', 'u']]\n"
     ]
    }
   ],
   "source": [
    "palabras_ingresadas = []\n",
    "\n",
    "for i in range(3):\n",
    "    palabra_ingresada = input('Ingrese una palabra')\n",
    "    letras_de_palabra = list(palabra_ingresada)\n",
    "    #for letra in letras_de_palabra:\n",
    "    palabras_ingresadas.append(letras_de_palabra)\n",
    "        \n",
    "    print(palabras_ingresadas)"
   ]
  },
  {
   "cell_type": "code",
   "execution_count": 57,
   "id": "2edd28fc",
   "metadata": {},
   "outputs": [
    {
     "name": "stdout",
     "output_type": "stream",
     "text": [
      "[['k', 'l', 'j']]\n",
      "[['k', 'l', 'j'], ['o', 'u', '8', 'o']]\n",
      "[['k', 'l', 'j'], ['o', 'u', '8', 'o'], ['f', 'k', 'u', 'm', 'j', 'i', 'i']]\n"
     ]
    }
   ],
   "source": [
    "palabras_ingresadas= []\n",
    "\n",
    "def palabras_en_juego():\n",
    "    palabra_ingresada = input('Ingresar una palabra')\n",
    "    lista_de_palabra_ingresada = list(palabra_ingresada)\n",
    "    lista_palabra = lista_de_palabra_ingresada\n",
    "    palabras_ingresadas.append(lista_palabra)\n",
    "    print(palabras_ingresadas)\n",
    "\n",
    "palabras_en_juego()\n",
    "palabras_en_juego()\n",
    "palabras_en_juego()"
   ]
  },
  {
   "cell_type": "markdown",
   "id": "13babab3",
   "metadata": {},
   "source": [
    "#### Challenge\n",
    "Dada la lista de ejemplo:  \n",
    "`lista = [['h', 'o', 'l', 'i', 's'], ['h', 'e', 'l', 'l', 'o'], ['h', 'a', 'l', 'l', 'o']]`  \n",
    "Crear una función que imprima una grilla (lista de listas), una línea por cada lista dentro de la lista principal.  \n",
    "Ejemplo del resultado esperado:  \n",
    "['h', 'o', 'l', 'i', 's']  \n",
    "['h', 'e', 'l', 'l', 'o']  \n",
    "['h', 'a', 'l', 'l', 'o']"
   ]
  },
  {
   "cell_type": "code",
   "execution_count": 60,
   "id": "dede7ab7",
   "metadata": {},
   "outputs": [
    {
     "name": "stdout",
     "output_type": "stream",
     "text": [
      "['h', 'o', 'l', 'i', 's']\n",
      "['h', 'e', 'l', 'l', 'o']\n",
      "['h', 'a', 'l', 'l', 'o']\n"
     ]
    }
   ],
   "source": [
    "lista = [['h', 'o', 'l', 'i', 's'], ['h', 'e', 'l', 'l', 'o'], ['h', 'a', 'l', 'l', 'o']]\n",
    "\n",
    "def imprimir():\n",
    "    for elemento in lista:\n",
    "        print(elemento)\n",
    "imprimir()\n"
   ]
  },
  {
   "cell_type": "code",
   "execution_count": 6,
   "id": "5abd3368",
   "metadata": {},
   "outputs": [
    {
     "name": "stdout",
     "output_type": "stream",
     "text": [
      "Bienvenido a Wordle\n",
      "Instrucciones de juego:\n",
      "Tenes que adivinar una palabra de 5 letras en 6 intentos\n",
      "Si la letra esta en la posicion correcta sale asi: [A]\n",
      "Si la letra esta en la palabra pero no en la misma posicion sale asi: (A)\n",
      "Si la letra no existe sale sin nada\n",
      "--------------\n",
      "['[p]', '[e]', '[r]', '[r]', '[o]']\n",
      "['🟩', '🟩', '🟩', '🟩', '🟩']\n",
      "Enhorabuena. Has ganado tio.\n"
     ]
    }
   ],
   "source": [
    "p_objetivo = 'perro'\n",
    "lista_objetivo = list(p_objetivo)\n",
    "intentos = 6\n",
    "tamano = 5\n",
    "print(f'Bienvenido a Wordle\\nInstrucciones de juego:\\nTenes que adivinar una palabra de 5 letras en 6 intentos\\nSi la letra esta en la posicion correcta sale asi: [A]\\nSi la letra esta en la palabra pero no en la misma posicion sale asi: (A)\\nSi la letra no existe sale sin nada\\n--------------')\n",
    "while intentos > 0: #Este bucle es cdda intento\n",
    "    p_usuario = input('Ingrese una palabra de 5 letras')\n",
    "    while len(p_usuario) != tamano: #Validador del tamaño de la palabra\n",
    "        p_usuario = input('Tu palabra no tiene 5 letras, Ingrese otra')\n",
    "    lista_usuario = list(p_usuario)\n",
    "    lista_comparada = []\n",
    "    lista_colores = []\n",
    "\n",
    "    for ind_letra in range(tamano): #Este bucle es el que compara las letras \n",
    "        if lista_usuario[ind_letra] == lista_objetivo[ind_letra]: #Letra en lugar que corresponde\n",
    "            lista_comparada.append(f'[{lista_usuario[ind_letra]}]')\n",
    "            lista_colores.append('🟩')\n",
    "\n",
    "        elif lista_usuario[ind_letra] in lista_objetivo: #Esta pero en otro lugar\n",
    "            lista_comparada.append(f'({lista_usuario[ind_letra]})')\n",
    "            lista_colores.append('🟨')\n",
    "\n",
    "        else: #No existe\n",
    "            lista_comparada.append(f'{lista_usuario[ind_letra]}')\n",
    "            lista_colores.append('🟥')\n",
    "\n",
    "    print(lista_comparada)\n",
    "    print(lista_colores) #Se imprime la palabra y los colores\n",
    "\n",
    "    if p_usuario == p_objetivo:\n",
    "        print('Enhorabuena. Has ganado tio.')\n",
    "        break\n",
    "\n",
    "    intentos = intentos - 1 #Este va arriba asi cuando llega a cero se detiene\n",
    "    if intentos == 0:\n",
    "        print('Juego Terminado. Perdiste.') # :("
   ]
  }
 ],
 "metadata": {
  "kernelspec": {
   "display_name": "Python 3",
   "language": "python",
   "name": "python3"
  },
  "language_info": {
   "codemirror_mode": {
    "name": "ipython",
    "version": 3
   },
   "file_extension": ".py",
   "mimetype": "text/x-python",
   "name": "python",
   "nbconvert_exporter": "python",
   "pygments_lexer": "ipython3",
   "version": "3.11.6"
  }
 },
 "nbformat": 4,
 "nbformat_minor": 5
}

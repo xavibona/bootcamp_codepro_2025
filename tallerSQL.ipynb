{
 "cells": [
  {
   "cell_type": "markdown",
   "id": "8a859d43",
   "metadata": {},
   "source": [
    "### SQL  \n",
    "Las tablas tienen atributos."
   ]
  }
 ],
 "metadata": {
  "language_info": {
   "name": "python"
  }
 },
 "nbformat": 4,
 "nbformat_minor": 5
}

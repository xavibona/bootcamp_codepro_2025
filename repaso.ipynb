{
 "cells": [
  {
   "cell_type": "markdown",
   "id": "3db989ad",
   "metadata": {
    "vscode": {
     "languageId": "plaintext"
    }
   },
   "source": [
    "### Challenge Funciones  \n",
    "Crear una función calcular_area(base, altura) que retorne el área de un triángulo.  \n",
    "Luego lo multiplicar por dos el resultado del area e imprimir el total  "
   ]
  },
  {
   "cell_type": "code",
   "execution_count": 1,
   "id": "f00a7984",
   "metadata": {},
   "outputs": [
    {
     "name": "stdout",
     "output_type": "stream",
     "text": [
      "6.0\n"
     ]
    }
   ],
   "source": [
    "def calcular_area(base, altura): # La formula de un triangoo es (b * a)/2\n",
    "    return (base*altura)/2\n",
    "\n",
    "area = calcular_area(2,3)\n",
    "print(area*2)\n"
   ]
  },
  {
   "cell_type": "markdown",
   "id": "cc5c3375",
   "metadata": {},
   "source": [
    "### Challenge Condicionales,  \n",
    "Crear un programa que solicite un número  al usuario y nos diga si el numero es:  \n",
    "'positivo'  \n",
    "'negativo'  \n",
    "'o Cero. '  "
   ]
  },
  {
   "cell_type": "code",
   "execution_count": 7,
   "id": "2892dc13",
   "metadata": {},
   "outputs": [
    {
     "name": "stdout",
     "output_type": "stream",
     "text": [
      "cero\n"
     ]
    }
   ],
   "source": [
    "num = int(input('ingrese un numero'))\n",
    "if num > 0 :\n",
    "    print('positivo')\n",
    "elif num < 0 :\n",
    "    print('negativo')\n",
    "else:\n",
    "    print('cero')"
   ]
  },
  {
   "cell_type": "markdown",
   "id": "5fd1defb",
   "metadata": {},
   "source": [
    "### Challenge For  \n",
    "Teniendo una lista de números del 1 al 10, crea un programa que muestre solo los numeros pares.  \n",
    "Luego sumar todos los números de la lista y mostrar el total."
   ]
  },
  {
   "cell_type": "code",
   "execution_count": 11,
   "id": "7a5037bf",
   "metadata": {},
   "outputs": [
    {
     "name": "stdout",
     "output_type": "stream",
     "text": [
      "2\n",
      "4\n",
      "6\n",
      "8\n",
      "10\n",
      "la suma es 55\n"
     ]
    }
   ],
   "source": [
    "lista_nums = [1,2,3,4,5,6,7,8,9,10]\n",
    "suma = 0\n",
    "for num in lista_nums:\n",
    "    if num %2 == 0:\n",
    "        print(num)\n",
    "    suma += num\n",
    "print(f'la suma es {suma}')\n"
   ]
  },
  {
   "cell_type": "markdown",
   "id": "7fe9cf63",
   "metadata": {},
   "source": [
    "### Challenge While  \n",
    "Crear una lista con números ingresados por el usuario hasta que escriba 0 (luego salir del bucle), y luego mostrar el promedio."
   ]
  },
  {
   "cell_type": "code",
   "execution_count": null,
   "id": "6c192247",
   "metadata": {},
   "outputs": [],
   "source": []
  },
  {
   "cell_type": "markdown",
   "id": "58f832df",
   "metadata": {},
   "source": [
    "### Challenge 🤺  \n",
    "El precio de alquilar un polideportivo es 120.000 guaranies. Dependiendo de las siguientes condiciones, se puede obtener un descuento:  \n",
    "- Si es mayor de edad y está trabajando -> Paga el 100%\n",
    "- Si es menor de edad y está trabajando -> Paga el 95%\n",
    "- Si es mayor de edad y no está trabajando -> Paga el 75%\n",
    "- Si es menor de edad y no está trabajando -> Paga el 50%  \n",
    "Teniendo la edad de la persona y si trabaja o no, imprimir el precio de alquilar el polideportivo."
   ]
  },
  {
   "cell_type": "code",
   "execution_count": null,
   "id": "17a58579",
   "metadata": {},
   "outputs": [],
   "source": []
  },
  {
   "cell_type": "markdown",
   "id": "6623fdb1",
   "metadata": {},
   "source": [
    "Challenge 🤺\n",
    "Crear una funcion que pida como parametro el nombre, correo y contrasenha. \n",
    "\n",
    "retornar true si la contrasenha tiene mas de 4 caracteres y el correo contiene un \"@\" De lo contrario, retornar False\n",
    "\n",
    "Repetir el proceso 3 veces"
   ]
  },
  {
   "cell_type": "code",
   "execution_count": null,
   "id": "cb6f773d",
   "metadata": {},
   "outputs": [],
   "source": []
  },
  {
   "cell_type": "markdown",
   "id": "e9442913",
   "metadata": {},
   "source": [
    "Challenge 🤺\n",
    "Definir una variable que contenga un numero y preguntar al usuario por el numero hasta que acierte.\n",
    "\n",
    "El programa debe tener una cantidad limitada de intentos.\n",
    "\n",
    "Si falla imprimir si el numero a adivinar es mayor o menor que el numero ingresado y debe indicar la cantidad de intentos que le quedan.\n",
    "\n",
    "Si acierta imprimir un mensaje"
   ]
  },
  {
   "cell_type": "code",
   "execution_count": null,
   "id": "602a87d8",
   "metadata": {},
   "outputs": [],
   "source": []
  },
  {
   "cell_type": "markdown",
   "id": "e91f1f06",
   "metadata": {},
   "source": [
    "Challenge 🤺 - 15 min\n",
    "Crear un programa que reciba una lista de supermercado e imprima todos los elementos de la lista enumerados.\n"
   ]
  },
  {
   "cell_type": "code",
   "execution_count": null,
   "id": "8496c411",
   "metadata": {},
   "outputs": [],
   "source": []
  }
 ],
 "metadata": {
  "kernelspec": {
   "display_name": "Python 3",
   "language": "python",
   "name": "python3"
  },
  "language_info": {
   "codemirror_mode": {
    "name": "ipython",
    "version": 3
   },
   "file_extension": ".py",
   "mimetype": "text/x-python",
   "name": "python",
   "nbconvert_exporter": "python",
   "pygments_lexer": "ipython3",
   "version": "3.13.3"
  }
 },
 "nbformat": 4,
 "nbformat_minor": 5
}
